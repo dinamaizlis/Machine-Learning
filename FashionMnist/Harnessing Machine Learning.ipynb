{
 "cells": [
  {
   "cell_type": "code",
   "execution_count": 1,
   "metadata": {},
   "outputs": [],
   "source": [
    "import pandas as pd\n",
    "import numpy as np\n",
    "import matplotlib.pyplot as plt\n",
    "import matplotlib as mpl \n",
    "import seaborn as sns"
   ]
  },
  {
   "cell_type": "code",
   "execution_count": 2,
   "metadata": {},
   "outputs": [],
   "source": [
    "EC1 = pd.read_csv(\"/Users/dinamaizlis/Desktop/קבצי עבודה/Training/Evyatar Cohen/Evyatar636771054555711409Alone.csv\")\n",
    "EC2 = pd.read_csv(\"/Users/dinamaizlis/Desktop/קבצי עבודה/Training/Evyatar Cohen/Evyatar636771053639929594Sync.csv\")\n",
    "EC3= pd.read_csv(\"/Users/dinamaizlis/Desktop/קבצי עבודה/Training/Evyatar Cohen/Evyatar636771052727603804Spontan.csv\")"
   ]
  },
  {
   "cell_type": "code",
   "execution_count": 3,
   "metadata": {},
   "outputs": [],
   "source": [
    "NS1 = pd.read_csv(\"/Users/dinamaizlis/Desktop/קבצי עבודה/Training/Nofar Social_Nuero/Nofar636759796290435160Alone.csv\")\n",
    "NS2 = pd.read_csv(\"/Users/dinamaizlis/Desktop/קבצי עבודה/Training/Nofar Social_Nuero/Nofar636759797397919664Sync.csv\")\n",
    "NS3= pd.read_csv(\"/Users/dinamaizlis/Desktop/קבצי עבודה/Training/Nofar Social_Nuero/Nofar636759795182793299Spontan.csv\")"
   ]
  },
  {
   "cell_type": "code",
   "execution_count": 4,
   "metadata": {},
   "outputs": [],
   "source": [
    "OS1 = pd.read_csv(\"/Users/dinamaizlis/Desktop/קבצי עבודה/Training/Oriya Social_Nuero/Oriya636759805268396661Alone.csv\")\n",
    "OS2 = pd.read_csv(\"/Users/dinamaizlis/Desktop/קבצי עבודה/Training/Oriya Social_Nuero/Oriya636759806131350399Sync.csv\")\n",
    "OS3= pd.read_csv(\"/Users/dinamaizlis/Desktop/קבצי עבודה/Training/Oriya Social_Nuero/Oriya636759804404113837Spontan.csv\")"
   ]
  },
  {
   "cell_type": "code",
   "execution_count": 5,
   "metadata": {},
   "outputs": [],
   "source": [
    "OK1 = pd.read_csv(\"/Users/dinamaizlis/Desktop/קבצי עבודה/Training/Orya Kalmanovitz/OryaB636771082736601528Alone.csv\")\n",
    "OK2 = pd.read_csv(\"/Users/dinamaizlis/Desktop/קבצי עבודה/Training/Orya Kalmanovitz/OryaB636771084494502229Sync.csv\")\n",
    "OK3= pd.read_csv(\"/Users/dinamaizlis/Desktop/קבצי עבודה/Training/Orya Kalmanovitz/OryaB636771083605535985Spontan.csv\")"
   ]
  },
  {
   "cell_type": "code",
   "execution_count": 6,
   "metadata": {},
   "outputs": [],
   "source": [
    "RM1 = pd.read_csv(\"/Users/dinamaizlis/Desktop/קבצי עבודה/Training/Revital Marbel/Revital636770955999435879Alone.csv\")\n",
    "RM2 = pd.read_csv(\"/Users/dinamaizlis/Desktop/קבצי עבודה/Training/Revital Marbel/Revital636770957894370062Sync.csv\")\n",
    "RM3= pd.read_csv(\"/Users/dinamaizlis/Desktop/קבצי עבודה/Training/Revital Marbel/Revital636770957038873193Spontan.csv\")"
   ]
  },
  {
   "cell_type": "code",
   "execution_count": 7,
   "metadata": {},
   "outputs": [],
   "source": [
    "ST1 = pd.read_csv(\"/Users/dinamaizlis/Desktop/קבצי עבודה/Training/Shahar Terner/Sachar636771047408504303Alone.csv\")\n",
    "ST2 = pd.read_csv(\"/Users/dinamaizlis/Desktop/קבצי עבודה/Training/Shahar Terner/Sachar636771046527112972Sync.csv\")\n",
    "ST3= pd.read_csv(\"/Users/dinamaizlis/Desktop/קבצי עבודה/Training/Shahar Terner/Sachar636771045591258071Spontan.csv\")"
   ]
  },
  {
   "cell_type": "code",
   "execution_count": 8,
   "metadata": {},
   "outputs": [],
   "source": [
    "RM1 = pd.read_csv(\"/Users/dinamaizlis/Desktop/קבצי עבודה/Training/Shelly Social_Nuero/Shelly636759788383205274Alone.csv\")\n",
    "RM2 = pd.read_csv(\"/Users/dinamaizlis/Desktop/קבצי עבודה/Training/Shelly Social_Nuero/Shelly636759789526313406Sync.csv\")\n",
    "RM3= pd.read_csv(\"/Users/dinamaizlis/Desktop/קבצי עבודה/Training/Shelly Social_Nuero/Shelly636759787508979097Spontan.csv\")"
   ]
  },
  {
   "cell_type": "code",
   "execution_count": 9,
   "metadata": {},
   "outputs": [],
   "source": [
    "YH1 = pd.read_csv(\"/Users/dinamaizlis/Desktop/קבצי עבודה/Training/Yael Hagai/Yael636771061659067649Alone.csv\")\n",
    "YH2 = pd.read_csv(\"/Users/dinamaizlis/Desktop/קבצי עבודה/Training/Yael Hagai/Yael636771060699529085Sync.csv\")\n",
    "YH3= pd.read_csv(\"/Users/dinamaizlis/Desktop/קבצי עבודה/Training/Yael Hagai/Yael636771059544754823Spontan.csv\")"
   ]
  },
  {
   "cell_type": "code",
   "execution_count": 10,
   "metadata": {},
   "outputs": [],
   "source": [
    "YR1 = pd.read_csv(\"/Users/dinamaizlis/Desktop/קבצי עבודה/Training/Yoel Raz/Yoel636760922573364655Alone.csv\")\n",
    "YR2 = pd.read_csv(\"/Users/dinamaizlis/Desktop/קבצי עבודה/Training/Yoel Raz/Yoel636760923490742912Sync.csv\")\n",
    "YR3= pd.read_csv(\"/Users/dinamaizlis/Desktop/קבצי עבודה/Training/Yoel Raz/Yoel636760921663075813Spontan.csv\")"
   ]
  },
  {
   "cell_type": "code",
   "execution_count": 11,
   "metadata": {},
   "outputs": [],
   "source": [
    "HandRight= pd.read_csv(\"/Users/dinamaizlis/Desktop/קבצי עבודה/HandRight.csv\")"
   ]
  },
  {
   "cell_type": "code",
   "execution_count": 12,
   "metadata": {},
   "outputs": [],
   "source": [
    "test_LL1 = pd.read_csv(\"/Users/dinamaizlis/Desktop/קבצי עבודה/Validation/Itiel Lab/Itiel636770942529041679Alone.csv\")\n",
    "test_LL2 = pd.read_csv(\"/Users/dinamaizlis/Desktop/קבצי עבודה/Validation/Itiel Lab/Itiel636770941638547912Sync.csv\")\n",
    "test_LL3 = pd.read_csv(\"/Users/dinamaizlis/Desktop/קבצי עבודה/Validation/Itiel Lab/Itiel636770940701219076Spontan.csv\")"
   ]
  },
  {
   "cell_type": "code",
   "execution_count": 13,
   "metadata": {},
   "outputs": [],
   "source": [
    "test_MS1 = pd.read_csv(\"/Users/dinamaizlis/Desktop/קבצי עבודה/Validation/Mor SHerman/Mor636771066407626524Alone.csv\")\n",
    "test_MS2 = pd.read_csv(\"/Users/dinamaizlis/Desktop/קבצי עבודה/Validation/Mor SHerman/Mor636771065531910215Sync.csv\")\n",
    "test_MS3 = pd.read_csv(\"/Users/dinamaizlis/Desktop/קבצי עבודה/Validation/Mor SHerman/Mor636771064635567065Spontan.csv\")"
   ]
  },
  {
   "cell_type": "code",
   "execution_count": 14,
   "metadata": {},
   "outputs": [],
   "source": [
    "test_OM1 = pd.read_csv(\"/Users/dinamaizlis/Desktop/קבצי עבודה/Validation/Oded Medina/Oded636754669540564461Alone.csv\")\n",
    "test_OM2 = pd.read_csv(\"/Users/dinamaizlis/Desktop/קבצי עבודה/Validation/Oded Medina/Oded636754671560850581Sync.csv\")\n",
    "test_OM3 = pd.read_csv(\"/Users/dinamaizlis/Desktop/קבצי עבודה/Validation/Oded Medina/Oded636754670490266956Spontan.csv\")"
   ]
  },
  {
   "cell_type": "code",
   "execution_count": 15,
   "metadata": {},
   "outputs": [],
   "source": [
    "HandRight.rename(columns = {' Hand _Type': 'Hand _Type_R'}, inplace = True)\n",
    "HandRight.rename(columns = {' # hands': '#_hands_R'}, inplace = True)\n",
    "HandRight.rename(columns = {' Time': 'Time_R'}, inplace = True)\n",
    "HandRight.rename(columns = {' Position X': 'Position_X_R'}, inplace = True)\n",
    "HandRight.rename(columns = {' Position Y': 'Position_Y_R'}, inplace = True)\n",
    "HandRight.rename(columns = {' Position Z': 'Position_Z_R'}, inplace = True)\n",
    "HandRight.rename(columns = {' Velocity X': 'Velocity_X_R'}, inplace = True)\n",
    "HandRight.rename(columns = {' Velocity Y': 'Velocity_Y_R'}, inplace = True)\n",
    "HandRight.rename(columns = {' Velocity Z': 'Velocity_Z_R'}, inplace = True)\n",
    "HandRight.rename(columns = {' Pitch': 'Pitch_R'}, inplace = True)\n",
    "HandRight.rename(columns = {' Roll': 'Roll_R'}, inplace = True)\n",
    "HandRight.rename(columns = {' Yaw': 'Yaw_R'}, inplace = True)\n",
    "HandRight.rename(columns = {' Wrist Pos X': 'Wrist_Pos_X_R'}, inplace = True)\n",
    "HandRight.rename(columns = {' Wrist Pos Y': 'Wrist_Pos_Y_R'}, inplace = True)\n",
    "HandRight.rename(columns = {' Wrist Pos Z': 'Wrist_Pos_Z_R'}, inplace = True)\n",
    "HandRight.rename(columns = {' Elbow pos X': 'Elbow_pos_X_R'}, inplace = True)\n",
    "HandRight.rename(columns = {' Elbow Pos Y': 'Elbow_pos_Y_R'}, inplace = True)\n",
    "HandRight.rename(columns = {' Elbow Pos Z': 'Elbow_pos_Z_R'}, inplace = True)\n",
    "HandRight.rename(columns = {' Grab Strenth': 'Grab_Strenth_R'}, inplace = True)\n",
    "HandRight.rename(columns = {' Grab Angle': 'Grab_Angle_R'}, inplace = True)\n",
    "HandRight.rename(columns = {' Pinch Strength': 'Pinch_Strength_R'}, inplace = True)"
   ]
  },
  {
   "cell_type": "code",
   "execution_count": 16,
   "metadata": {},
   "outputs": [],
   "source": [
    "def fahr_to_rename(temp_f):\n",
    "    temp_f.rename(columns = {' Frame ID': 'Frame_ID'}, inplace = True)\n",
    "    temp_f.rename(columns = {' Hand Type': 'Hand _Type'}, inplace = True)\n",
    "    \n",
    "    #start_time=temp_f['Time'].min()+7\n",
    "   # temp_f=ttemp_f[temp_f['Time' +7]\n",
    "    return temp_f"
   ]
  },
  {
   "cell_type": "code",
   "execution_count": 17,
   "metadata": {},
   "outputs": [],
   "source": [
    "EC1=fahr_to_rename(EC1)\n",
    "EC2=fahr_to_rename(EC2)\n",
    "EC3=fahr_to_rename(EC3)\n",
    "NS1=fahr_to_rename(NS1)\n",
    "NS2=fahr_to_rename(NS2)\n",
    "NS3=fahr_to_rename(NS3)\n",
    "OS1=fahr_to_rename(OS1)\n",
    "OS2=fahr_to_rename(OS2)\n",
    "OS3=fahr_to_rename(OS3)\n",
    "OK1=fahr_to_rename(OK1)\n",
    "OK2=fahr_to_rename(OK2)\n",
    "OK3=fahr_to_rename(OK3)\n",
    "RM1=fahr_to_rename(RM1)\n",
    "RM2=fahr_to_rename(RM2)\n",
    "RM3=fahr_to_rename(RM3)\n",
    "YH1=fahr_to_rename(YH1)\n",
    "YH2=fahr_to_rename(YH2)\n",
    "YH3=fahr_to_rename(YH3)\n",
    "YR1=fahr_to_rename(YR1)\n",
    "YR2=fahr_to_rename(YR2)\n",
    "YR3=fahr_to_rename(YR3)\n",
    "test_LL1=fahr_to_rename(test_LL1)\n",
    "test_LL2=fahr_to_rename(test_LL2)\n",
    "test_LL3=fahr_to_rename(test_LL3)\n",
    "test_MS1=fahr_to_rename(test_MS1)\n",
    "test_MS2=fahr_to_rename(test_MS2)\n",
    "test_MS2=fahr_to_rename(test_MS3)\n",
    "test_OM1=fahr_to_rename(test_OM1)\n",
    "test_OM2=fahr_to_rename(test_OM2)\n",
    "test_OM3=fahr_to_rename(test_OM3)"
   ]
  },
  {
   "cell_type": "code",
   "execution_count": 18,
   "metadata": {},
   "outputs": [],
   "source": [
    "HandRight['index1'] = HandRight.index"
   ]
  },
  {
   "cell_type": "code",
   "execution_count": 19,
   "metadata": {},
   "outputs": [],
   "source": [
    "#Function for arranging a situation alone\n",
    "\n",
    "def fahr_to_kelvin1(temp_f):\n",
    "    temp_f.rename(columns = {' Hand _Type': 'Hand _Type_L'}, inplace = True)\n",
    "    temp_f.rename(columns = {' # hands': '#_hands_L'}, inplace = True)\n",
    "    temp_f.rename(columns = {' Position X': 'Position_X_L'}, inplace = True)\n",
    "    temp_f.rename(columns = {' Position Y': 'Position_Y_L'}, inplace = True)\n",
    "    temp_f.rename(columns = {' Position Z': 'Position_Z_L'}, inplace = True)\n",
    "    temp_f.rename(columns = {' Velocity X': 'Velocity_X_L'}, inplace = True)\n",
    "    temp_f.rename(columns = {' Velocity Y': 'Velocity_Y_L'}, inplace = True)\n",
    "    temp_f.rename(columns = {' Velocity Z': 'Velocity_Z_L'}, inplace = True)\n",
    "    temp_f.rename(columns = {' Pitch': 'Pitch_L'}, inplace = True)\n",
    "    temp_f.rename(columns = {' Roll': 'Roll_L'}, inplace = True)\n",
    "    temp_f.rename(columns = {' Yaw': 'Yaw_L'}, inplace = True)\n",
    "    temp_f.rename(columns = {' Wrist Pos X': 'Wrist_Pos_X_L'}, inplace = True)\n",
    "    temp_f.rename(columns = {' Wrist Pos Y': 'Wrist_Pos_Y_L'}, inplace = True)\n",
    "    temp_f.rename(columns = {' Wrist Pos Z': 'Wrist_Pos_Z_L'}, inplace = True)\n",
    "    temp_f.rename(columns = {' Elbow pos X': 'Elbow_pos_X_L'}, inplace = True)\n",
    "    temp_f.rename(columns = {' Elbow Pos Y': 'Elbow_pos_Y_L'}, inplace = True)\n",
    "    temp_f.rename(columns = {' Elbow Pos Z': 'Elbow_pos_Z_L'}, inplace = True)\n",
    "    temp_f.rename(columns = {' Grab Strenth': 'Grab_Strenth_L'}, inplace = True)\n",
    "    temp_f.rename(columns = {' Grab Angle': 'Grab_Angle_L'}, inplace = True)\n",
    "    temp_f.rename(columns = {' Pinch Strength': 'Pinch_Strength_L'}, inplace = True)\n",
    "    \n",
    "    temp_f['index1'] = temp_f.index\n",
    "    \n",
    "    temp_f=pd.merge( HandRight, temp_f, on='index1', how='inner')\n",
    "    \n",
    "    \n",
    "    #temp_f.drop(columns = ['Time_x','Hand _Type_x','Hand _Type_y','#_hands_L','#_hands_R' ,'index1','Frame_ID_y'], inplace =True)\n",
    "    temp_f.rename(columns = {'Frame_ID_x': 'Frame_ID'}, inplace = True)\n",
    "    return temp_f"
   ]
  },
  {
   "cell_type": "code",
   "execution_count": 20,
   "metadata": {},
   "outputs": [],
   "source": [
    "EC1=fahr_to_kelvin1(EC1)\n",
    "NS1=fahr_to_kelvin1(NS1)\n",
    "OS1=fahr_to_kelvin1(OS1)\n",
    "OK1=fahr_to_kelvin1(OK1)\n",
    "RM1=fahr_to_kelvin1(RM1)\n",
    "YH1=fahr_to_kelvin1(YH1)\n",
    "YR1=fahr_to_kelvin1(YR1)\n",
    "test_LL1=fahr_to_kelvin1(test_LL1)\n",
    "test_MS1=fahr_to_kelvin1(test_MS1)\n",
    "test_OM1=fahr_to_kelvin1(test_OM1)"
   ]
  },
  {
   "cell_type": "code",
   "execution_count": 21,
   "metadata": {},
   "outputs": [
    {
     "data": {
      "text/plain": [
       "(9052, 22)"
      ]
     },
     "execution_count": 21,
     "metadata": {},
     "output_type": "execute_result"
    }
   ],
   "source": [
    "EC2.shape"
   ]
  },
  {
   "cell_type": "code",
   "execution_count": 22,
   "metadata": {},
   "outputs": [],
   "source": [
    "#Function for arranging a situation spontan & sync\n",
    "def fahr_to_kelvin(temp_f):\n",
    "    \n",
    "    temp_f_R=temp_f[temp_f['Hand _Type'] ==\"right\"]\n",
    "    temp_f_L=temp_f[temp_f['Hand _Type'] ==\"left\"]\n",
    "    \n",
    "    temp_f_R.rename(columns = {' # hands': '#_hands_R'}, inplace = True)\n",
    "    temp_f_R.rename(columns = {' Time': 'Time_R'}, inplace = True)\n",
    "    temp_f_R.rename(columns = {' Position X': 'Position_X_R'}, inplace = True)\n",
    "    temp_f_R.rename(columns = {' Position Y': 'Position_Y_R'}, inplace = True)\n",
    "    temp_f_R.rename(columns = {' Position Z': 'Position_Z_R'}, inplace = True)\n",
    "    temp_f_R.rename(columns = {' Velocity X': 'Velocity_X_R'}, inplace = True)\n",
    "    temp_f_R.rename(columns = {' Velocity Y': 'Velocity_Y_R'}, inplace = True)\n",
    "    temp_f_R.rename(columns = {' Velocity Z': 'Velocity_Z_R'}, inplace = True)\n",
    "    temp_f_R.rename(columns = {' Pitch': 'Pitch_R'}, inplace = True)\n",
    "    temp_f_R.rename(columns = {' Roll': 'Roll_R'}, inplace = True)\n",
    "    temp_f_R.rename(columns = {' Yaw': 'Yaw_R'}, inplace = True)\n",
    "    temp_f_R.rename(columns = {' Wrist Pos X': 'Wrist_Pos_X_R'}, inplace = True)\n",
    "    temp_f_R.rename(columns = {' Wrist Pos Y': 'Wrist_Pos_Y_R'}, inplace = True)\n",
    "    temp_f_R.rename(columns = {' Wrist Pos Z': 'Wrist_Pos_Z_R'}, inplace = True)\n",
    "    temp_f_R.rename(columns = {' Elbow pos X': 'Elbow_pos_X_R'}, inplace = True)\n",
    "    temp_f_R.rename(columns = {' Elbow Pos Y': 'Elbow_pos_Y_R'}, inplace = True)\n",
    "    temp_f_R.rename(columns = {' Elbow Pos Z': 'Elbow_pos_Z_R'}, inplace = True)\n",
    "    temp_f_R.rename(columns = {' Grab Strenth': 'Grab_Strenth_R'}, inplace = True)\n",
    "    temp_f_R.rename(columns = {' Grab Angle': 'Grab_Angle_R'}, inplace = True)\n",
    "    temp_f_R.rename(columns = {' Pinch Strength': 'Pinch_Strength_R'}, inplace = True)\n",
    "    \n",
    "    \n",
    "    temp_f_L.rename(columns = {' Hand _Type': 'Hand _Type_L'}, inplace = True)\n",
    "    temp_f_L.rename(columns = {' # hands': '#_hands_L'}, inplace = True)\n",
    "    temp_f_L.rename(columns = {' Position X': 'Position_X_L'}, inplace = True)\n",
    "    temp_f_L.rename(columns = {' Position Y': 'Position_Y_L'}, inplace = True)\n",
    "    temp_f_L.rename(columns = {' Position Z': 'Position_Z_L'}, inplace = True)\n",
    "    temp_f_L.rename(columns = {' Velocity X': 'Velocity_X_L'}, inplace = True)\n",
    "    temp_f_L.rename(columns = {' Velocity Y': 'Velocity_Y_L'}, inplace = True)\n",
    "    temp_f_L.rename(columns = {' Velocity Z': 'Velocity_Z_L'}, inplace = True)\n",
    "    temp_f_L.rename(columns = {' Pitch': 'Pitch_L'}, inplace = True)\n",
    "    temp_f_L.rename(columns = {' Roll': 'Roll_L'}, inplace = True)\n",
    "    temp_f_L.rename(columns = {' Yaw': 'Yaw_L'}, inplace = True)\n",
    "    temp_f_L.rename(columns = {' Wrist Pos X': 'Wrist_Pos_X_L'}, inplace = True)\n",
    "    temp_f_L.rename(columns = {' Wrist Pos Y': 'Wrist_Pos_Y_L'}, inplace = True)\n",
    "    temp_f_L.rename(columns = {' Wrist Pos Z': 'Wrist_Pos_Z_L'}, inplace = True)\n",
    "    temp_f_L.rename(columns = {' Elbow pos X': 'Elbow_pos_X_L'}, inplace = True)\n",
    "    temp_f_L.rename(columns = {' Elbow Pos Y': 'Elbow_pos_Y_L'}, inplace = True)\n",
    "    temp_f_L.rename(columns = {' Elbow Pos Z': 'Elbow_pos_Z_L'}, inplace = True)\n",
    "    temp_f_L.rename(columns = {' Grab Strenth': 'Grab_Strenth_L'}, inplace = True)\n",
    "    temp_f_L.rename(columns = {' Grab Angle': 'Grab_Angle_L'}, inplace = True)\n",
    "    temp_f_L.rename(columns = {' Pinch Strength': 'Pinch_Strength_L'}, inplace = True)\n",
    "    \n",
    "    \n",
    "    temp_f_LR=pd.merge( temp_f_R,temp_f_L, on='Frame_ID')\n",
    "   # res2 = pd.concat([temp_f_R, temp_f_L], axis=1, join='inner')\n",
    "    \n",
    "    temp_f_LR.drop(columns = ['Time_x','Hand _Type_x','Hand _Type_y','#_hands_L','#_hands_R'], inplace =True)\n",
    "    temp_f_LR=temp_f_LR[::10] \n",
    "    \n",
    "    return temp_f_LR"
   ]
  },
  {
   "cell_type": "code",
   "execution_count": 23,
   "metadata": {},
   "outputs": [
    {
     "name": "stderr",
     "output_type": "stream",
     "text": [
      "/Users/dinamaizlis/opt/anaconda3/lib/python3.7/site-packages/pandas/core/frame.py:4223: SettingWithCopyWarning: \n",
      "A value is trying to be set on a copy of a slice from a DataFrame\n",
      "\n",
      "See the caveats in the documentation: http://pandas.pydata.org/pandas-docs/stable/user_guide/indexing.html#returning-a-view-versus-a-copy\n",
      "  return super().rename(**kwargs)\n"
     ]
    }
   ],
   "source": [
    "EC2=fahr_to_kelvin(EC2)\n",
    "EC3=fahr_to_kelvin(EC3)\n",
    "NS2=fahr_to_kelvin(NS2)\n",
    "NS3=fahr_to_kelvin(NS3)\n",
    "OS2=fahr_to_kelvin(OS2)\n",
    "OS3=fahr_to_kelvin(OS3)\n",
    "OK2=fahr_to_kelvin(OK2)\n",
    "OK3=fahr_to_kelvin(OK3)\n",
    "RM2=fahr_to_kelvin(RM2)\n",
    "RM3=fahr_to_kelvin(RM3)\n",
    "YH2=fahr_to_kelvin(YH2)\n",
    "YH3=fahr_to_kelvin(YH3)\n",
    "YR2=fahr_to_kelvin(YR2)\n",
    "YR3=fahr_to_kelvin(YR3)\n",
    "test_LL2=fahr_to_kelvin(test_LL2)\n",
    "test_LL3=fahr_to_kelvin(test_LL3)\n",
    "test_MS2=fahr_to_kelvin(test_MS2)\n",
    "test_MS3=fahr_to_kelvin(test_MS3)\n",
    "test_OM2=fahr_to_kelvin(test_OM2)\n",
    "test_OM3=fahr_to_kelvin(test_OM3)"
   ]
  },
  {
   "cell_type": "code",
   "execution_count": 24,
   "metadata": {},
   "outputs": [],
   "source": [
    "# Arranging the data into one data\n",
    "# & Create a new col named State when: alone=1, sync=2, spontan=3"
   ]
  },
  {
   "cell_type": "code",
   "execution_count": 25,
   "metadata": {},
   "outputs": [],
   "source": [
    "# Function for connecting data\n",
    "def fahr_to_kelvin2(temp_f):\n",
    "    df_2 = pd.concat([df_1, temp_f], ignore_index=True)\n",
    "    \n",
    "    return df_2"
   ]
  },
  {
   "cell_type": "code",
   "execution_count": 26,
   "metadata": {},
   "outputs": [],
   "source": [
    "#concat data alone_train\n",
    "df_1 = pd.concat([EC1, NS1], ignore_index=True)\n",
    "df_1=fahr_to_kelvin2(OS1)\n",
    "df_1=fahr_to_kelvin2(OK1)\n",
    "df_1=fahr_to_kelvin2(RM1)\n",
    "df_1=fahr_to_kelvin2(YH1)\n",
    "alone_train=fahr_to_kelvin2(YR1)"
   ]
  },
  {
   "cell_type": "code",
   "execution_count": 27,
   "metadata": {},
   "outputs": [],
   "source": [
    "alone_train['state'] = 1"
   ]
  },
  {
   "cell_type": "code",
   "execution_count": 28,
   "metadata": {},
   "outputs": [],
   "source": [
    "#concat data alone_test\n",
    "df_1 = pd.concat([test_LL1, test_MS1], ignore_index=True)\n",
    "alone_test=fahr_to_kelvin2(test_OM1)\n",
    "alone_test['state'] = 1"
   ]
  },
  {
   "cell_type": "code",
   "execution_count": 29,
   "metadata": {},
   "outputs": [],
   "source": [
    "#concat data sync_train\n",
    "df_1 = pd.concat([EC2, NS2], ignore_index=True)\n",
    "df_1=fahr_to_kelvin2(OS2)\n",
    "df_1=fahr_to_kelvin2(OK2)\n",
    "df_1=fahr_to_kelvin2(RM2)\n",
    "df_1=fahr_to_kelvin2(YH2)\n",
    "sync_train=fahr_to_kelvin2(YR2)"
   ]
  },
  {
   "cell_type": "code",
   "execution_count": 30,
   "metadata": {},
   "outputs": [],
   "source": [
    "sync_train['state'] = 2"
   ]
  },
  {
   "cell_type": "code",
   "execution_count": 31,
   "metadata": {},
   "outputs": [],
   "source": [
    "#concat data alone_test\n",
    "df_1 = pd.concat([test_LL2, test_MS2], ignore_index=True)\n",
    "sync_test=fahr_to_kelvin2(test_OM2)\n",
    "sync_test['state'] = 2"
   ]
  },
  {
   "cell_type": "code",
   "execution_count": 32,
   "metadata": {},
   "outputs": [],
   "source": [
    "#concat data spontan_train\n",
    "df_1 = pd.concat([EC3, NS3], ignore_index=True)\n",
    "df_1=fahr_to_kelvin2(OS3)\n",
    "df_1=fahr_to_kelvin2(OK3)\n",
    "df_1=fahr_to_kelvin2(RM3)\n",
    "df_1=fahr_to_kelvin2(YH3)\n",
    "spontan_train=fahr_to_kelvin2(YR3)"
   ]
  },
  {
   "cell_type": "code",
   "execution_count": 33,
   "metadata": {},
   "outputs": [],
   "source": [
    "spontan_train['state'] = 3"
   ]
  },
  {
   "cell_type": "code",
   "execution_count": 34,
   "metadata": {},
   "outputs": [],
   "source": [
    "#concat data alone_test\n",
    "df_1 = pd.concat([test_LL3, test_MS3], ignore_index=True)\n",
    "spontan_test=fahr_to_kelvin2(test_OM3)\n",
    "spontan_test['state'] = 3"
   ]
  },
  {
   "cell_type": "code",
   "execution_count": 35,
   "metadata": {},
   "outputs": [
    {
     "name": "stderr",
     "output_type": "stream",
     "text": [
      "/Users/dinamaizlis/opt/anaconda3/lib/python3.7/site-packages/ipykernel_launcher.py:2: FutureWarning: Sorting because non-concatenation axis is not aligned. A future version\n",
      "of pandas will change to not sort by default.\n",
      "\n",
      "To accept the future behavior, pass 'sort=False'.\n",
      "\n",
      "To retain the current behavior and silence the warning, pass 'sort=True'.\n",
      "\n",
      "  \n",
      "/Users/dinamaizlis/opt/anaconda3/lib/python3.7/site-packages/ipykernel_launcher.py:3: FutureWarning: Sorting because non-concatenation axis is not aligned. A future version\n",
      "of pandas will change to not sort by default.\n",
      "\n",
      "To accept the future behavior, pass 'sort=False'.\n",
      "\n",
      "To retain the current behavior and silence the warning, pass 'sort=True'.\n",
      "\n",
      "  This is separate from the ipykernel package so we can avoid doing imports until\n"
     ]
    }
   ],
   "source": [
    "#created data training from the data\n",
    "df2=pd.concat([alone_train ,sync_train], ignore_index=True)\n",
    "train_df=pd.concat([df2 ,spontan_train], ignore_index=True)"
   ]
  },
  {
   "cell_type": "code",
   "execution_count": 36,
   "metadata": {},
   "outputs": [],
   "source": [
    "#train_df=pd.concat([df2 ,spontan_train], ignore_index=True)"
   ]
  },
  {
   "cell_type": "code",
   "execution_count": 37,
   "metadata": {},
   "outputs": [],
   "source": [
    "train_df.drop(columns = [' Hand Type','#_hands_L','#_hands_R','Frame_ID','Hand _Type','index1',' Frame ID','Time_x'], inplace =True)"
   ]
  },
  {
   "cell_type": "code",
   "execution_count": 38,
   "metadata": {},
   "outputs": [],
   "source": [
    "#start after 7 secends\n",
    "start_time=train_df['Time_y'].min()\n",
    "train_df=train_df[train_df['Time_y']>start_time+7]"
   ]
  },
  {
   "cell_type": "code",
   "execution_count": 39,
   "metadata": {},
   "outputs": [
    {
     "name": "stderr",
     "output_type": "stream",
     "text": [
      "/Users/dinamaizlis/opt/anaconda3/lib/python3.7/site-packages/ipykernel_launcher.py:2: FutureWarning: Sorting because non-concatenation axis is not aligned. A future version\n",
      "of pandas will change to not sort by default.\n",
      "\n",
      "To accept the future behavior, pass 'sort=False'.\n",
      "\n",
      "To retain the current behavior and silence the warning, pass 'sort=True'.\n",
      "\n",
      "  \n",
      "/Users/dinamaizlis/opt/anaconda3/lib/python3.7/site-packages/ipykernel_launcher.py:3: FutureWarning: Sorting because non-concatenation axis is not aligned. A future version\n",
      "of pandas will change to not sort by default.\n",
      "\n",
      "To accept the future behavior, pass 'sort=False'.\n",
      "\n",
      "To retain the current behavior and silence the warning, pass 'sort=True'.\n",
      "\n",
      "  This is separate from the ipykernel package so we can avoid doing imports until\n"
     ]
    }
   ],
   "source": [
    "# concat the test data\n",
    "df2=pd.concat([alone_test ,sync_test], ignore_index=True)\n",
    "test_df=pd.concat([df2 ,spontan_test], ignore_index=True)"
   ]
  },
  {
   "cell_type": "code",
   "execution_count": 40,
   "metadata": {},
   "outputs": [],
   "source": [
    "#test_df=pd.concat([df2 ,spontan_test], ignore_index=True)"
   ]
  },
  {
   "cell_type": "code",
   "execution_count": 41,
   "metadata": {},
   "outputs": [],
   "source": [
    "test_df=test_df.drop(columns = [' Hand Type','#_hands_L','#_hands_R','Frame_ID','Hand _Type','index1',' Frame ID','Time_x'])"
   ]
  },
  {
   "cell_type": "code",
   "execution_count": 42,
   "metadata": {},
   "outputs": [],
   "source": [
    "#start after 7 secends\n",
    "start_time=test_df['Time_y'].min()\n",
    "test_df=test_df[test_df['Time_y']>start_time+7]"
   ]
  },
  {
   "cell_type": "code",
   "execution_count": 43,
   "metadata": {},
   "outputs": [],
   "source": [
    "test_df=test_df.dropna()\n",
    "train_df=train_df.dropna()"
   ]
  },
  {
   "cell_type": "markdown",
   "metadata": {},
   "source": [
    "# הדמייה"
   ]
  },
  {
   "cell_type": "code",
   "execution_count": 44,
   "metadata": {},
   "outputs": [],
   "source": [
    "import matplotlib.pyplot as plt\n",
    "import numpy as np\n",
    "import seaborn as sns"
   ]
  },
  {
   "cell_type": "code",
   "execution_count": 45,
   "metadata": {},
   "outputs": [],
   "source": [
    "train_df1=train_df[::50]"
   ]
  },
  {
   "cell_type": "code",
   "execution_count": 46,
   "metadata": {},
   "outputs": [
    {
     "name": "stderr",
     "output_type": "stream",
     "text": [
      "/Users/dinamaizlis/opt/anaconda3/lib/python3.7/site-packages/ipykernel_launcher.py:1: SettingWithCopyWarning: \n",
      "A value is trying to be set on a copy of a slice from a DataFrame.\n",
      "Try using .loc[row_indexer,col_indexer] = value instead\n",
      "\n",
      "See the caveats in the documentation: http://pandas.pydata.org/pandas-docs/stable/user_guide/indexing.html#returning-a-view-versus-a-copy\n",
      "  \"\"\"Entry point for launching an IPython kernel.\n"
     ]
    }
   ],
   "source": [
    "train_df1['Elbow']= train_df[['Elbow_pos_X_L', 'Elbow_pos_X_R' ,'Elbow_pos_Y_L','Elbow_pos_Y_R','Elbow_pos_Z_L' ,'Elbow_pos_Z_R']].mean(axis=1)"
   ]
  },
  {
   "cell_type": "code",
   "execution_count": 47,
   "metadata": {},
   "outputs": [
    {
     "data": {
      "text/plain": [
       "<matplotlib.axes._subplots.AxesSubplot at 0x7fa5e9ff9e10>"
      ]
     },
     "execution_count": 47,
     "metadata": {},
     "output_type": "execute_result"
    },
    {
     "data": {
      "image/png": "[encoded data removed]",
      "text/plain": [
       "<Figure size 432x288 with 1 Axes>"
      ]
     },
     "metadata": {
      "needs_background": "light"
     },
     "output_type": "display_data"
    }
   ],
   "source": [
    "#A graph that represents the elbow_pos_X left in tree different mental states.\n",
    "sns.scatterplot(x=\"Elbow\", y='Elbow_pos_X_L', data=train_df1 ,hue = 'state')"
   ]
  },
  {
   "cell_type": "code",
   "execution_count": 48,
   "metadata": {},
   "outputs": [
    {
     "data": {
      "text/plain": [
       "<matplotlib.axes._subplots.AxesSubplot at 0x7fa5d41bd950>"
      ]
     },
     "execution_count": 48,
     "metadata": {},
     "output_type": "execute_result"
    },
    {
     "data": {
      "image/png": "[encoded data removed]",
      "text/plain": [
       "<Figure size 432x288 with 1 Axes>"
      ]
     },
     "metadata": {
      "needs_background": "light"
     },
     "output_type": "display_data"
    },
    {
     "data": {
      "image/png": "[encoded data removed]",
      "text/plain": [
       "<Figure size 432x288 with 1 Axes>"
      ]
     },
     "metadata": {
      "needs_background": "light"
     },
     "output_type": "display_data"
    },
    {
     "data": {
      "image/png": "[encoded data removed]",
      "text/plain": [
       "<Figure size 432x288 with 1 Axes>"
      ]
     },
     "metadata": {
      "needs_background": "light"
     },
     "output_type": "display_data"
    }
   ],
   "source": [
    "#Position_X_R & Position_X_L in tree state\n",
    "train_df1.groupby(['state'])['Position_X_R','Position_X_L'].mean().plot()\n",
    "train_df1.groupby(['state'])['Position_Y_R','Position_Y_L'].mean().plot()\n",
    "train_df1.groupby(['state'])['Position_Z_R','Position_Z_L'].mean().plot()"
   ]
  },
  {
   "cell_type": "code",
   "execution_count": 49,
   "metadata": {},
   "outputs": [
    {
     "name": "stderr",
     "output_type": "stream",
     "text": [
      "/Users/dinamaizlis/opt/anaconda3/lib/python3.7/site-packages/ipykernel_launcher.py:1: SettingWithCopyWarning: \n",
      "A value is trying to be set on a copy of a slice from a DataFrame.\n",
      "Try using .loc[row_indexer,col_indexer] = value instead\n",
      "\n",
      "See the caveats in the documentation: http://pandas.pydata.org/pandas-docs/stable/user_guide/indexing.html#returning-a-view-versus-a-copy\n",
      "  \"\"\"Entry point for launching an IPython kernel.\n"
     ]
    }
   ],
   "source": [
    "train_df1['Roll']= train_df[['Roll_L', 'Roll_R']].mean(axis=1)"
   ]
  },
  {
   "cell_type": "code",
   "execution_count": 50,
   "metadata": {},
   "outputs": [
    {
     "name": "stdout",
     "output_type": "stream",
     "text": [
      "state 1 = Alone\n",
      "state 2 = Sync\n",
      "state 3 = Spontan\n"
     ]
    },
    {
     "data": {
      "image/png": "[encoded data removed]",
      "text/plain": [
       "<Figure size 1080x360 with 3 Axes>"
      ]
     },
     "metadata": {
      "needs_background": "light"
     },
     "output_type": "display_data"
    }
   ],
   "source": [
    "sns.lmplot(x = 'Roll',y = 'Roll_R',data = train_df1,\n",
    "           col ='state'\n",
    "           ,palette = 'coolwarm')\n",
    "print(\"state 1 = Alone\")\n",
    "print(\"state 2 = Sync\")\n",
    "print(\"state 3 = Spontan\")"
   ]
  },
  {
   "cell_type": "markdown",
   "metadata": {},
   "source": [
    "# MODL"
   ]
  },
  {
   "cell_type": "code",
   "execution_count": 51,
   "metadata": {},
   "outputs": [],
   "source": [
    "from sklearn.decomposition import PCA\n",
    "from sklearn.naive_bayes import GaussianNB\n",
    "from sklearn.metrics import f1_score\n",
    "from sklearn.model_selection import cross_val_score"
   ]
  },
  {
   "cell_type": "code",
   "execution_count": 52,
   "metadata": {},
   "outputs": [],
   "source": [
    "x_train = train_df.drop('state',axis=1)\n",
    "x_test= test_df.drop('state',axis=1)\n",
    "y_train = train_df['state']\n",
    "y_test=test_df['state']"
   ]
  },
  {
   "cell_type": "markdown",
   "metadata": {},
   "source": [
    "# naive_bayes"
   ]
  },
  {
   "cell_type": "code",
   "execution_count": 53,
   "metadata": {},
   "outputs": [
    {
     "data": {
      "text/plain": [
       "array([0.96877169, 0.94265637, 0.9405743 ])"
      ]
     },
     "execution_count": 53,
     "metadata": {},
     "output_type": "execute_result"
    }
   ],
   "source": [
    "nb=GaussianNB()\n",
    "nb.fit(x_train, y_train)\n",
    "#cross_val_score(nb, x_train, y_train, cv=3,scoring=\"accuracy\")\n",
    "nb_pred=nb.predict(x_test)\n",
    "cross_val_score(nb, x_train, y_train, cv=3, scoring=\"accuracy\")"
   ]
  },
  {
   "cell_type": "code",
   "execution_count": 54,
   "metadata": {},
   "outputs": [
    {
     "name": "stdout",
     "output_type": "stream",
     "text": [
      "test score: 0.9364899561999698\n",
      "F1 Score: 0.9361556998066137\n"
     ]
    }
   ],
   "source": [
    "print(\"test score:\",nb.score(x_test,y_test))\n",
    "print(\"F1 Score:\",f1_score(y_test,nb_pred,average='weighted'))"
   ]
  },
  {
   "cell_type": "code",
   "execution_count": 55,
   "metadata": {},
   "outputs": [
    {
     "name": "stdout",
     "output_type": "stream",
     "text": [
      "              precision    recall  f1-score   support\n",
      "\n",
      "           1       0.99      1.00      1.00     11106\n",
      "           2       0.62      0.59      0.61      1062\n",
      "           3       0.63      0.65      0.64      1074\n",
      "\n",
      "    accuracy                           0.94     13242\n",
      "   macro avg       0.75      0.75      0.75     13242\n",
      "weighted avg       0.94      0.94      0.94     13242\n",
      "\n"
     ]
    }
   ],
   "source": [
    "from sklearn.metrics import classification_report\n",
    "print(classification_report(y_test, nb_pred))"
   ]
  },
  {
   "cell_type": "markdown",
   "metadata": {},
   "source": [
    "### naive_bayes-pca"
   ]
  },
  {
   "cell_type": "code",
   "execution_count": 56,
   "metadata": {},
   "outputs": [
    {
     "name": "stdout",
     "output_type": "stream",
     "text": [
      "PCA score: 0.8386950611690077\n"
     ]
    }
   ],
   "source": [
    "pca = PCA(n_components=2)\n",
    "x_t_train = pca.fit_transform(x_train)\n",
    "x_t_test = pca.fit_transform(x_test)\n",
    "nb.fit(x_t_train,y_train)\n",
    "print(\"PCA score:\",nb.score(x_t_test,y_test))"
   ]
  },
  {
   "cell_type": "markdown",
   "metadata": {},
   "source": [
    "## Logistic Regression"
   ]
  },
  {
   "cell_type": "code",
   "execution_count": 57,
   "metadata": {},
   "outputs": [
    {
     "name": "stderr",
     "output_type": "stream",
     "text": [
      "/Users/dinamaizlis/opt/anaconda3/lib/python3.7/site-packages/sklearn/linear_model/logistic.py:432: FutureWarning: Default solver will be changed to 'lbfgs' in 0.22. Specify a solver to silence this warning.\n",
      "  FutureWarning)\n",
      "/Users/dinamaizlis/opt/anaconda3/lib/python3.7/site-packages/sklearn/linear_model/logistic.py:469: FutureWarning: Default multi_class will be changed to 'auto' in 0.22. Specify the multi_class option to silence this warning.\n",
      "  \"this warning.\", FutureWarning)\n",
      "/Users/dinamaizlis/opt/anaconda3/lib/python3.7/site-packages/sklearn/linear_model/logistic.py:432: FutureWarning: Default solver will be changed to 'lbfgs' in 0.22. Specify a solver to silence this warning.\n",
      "  FutureWarning)\n",
      "/Users/dinamaizlis/opt/anaconda3/lib/python3.7/site-packages/sklearn/linear_model/logistic.py:469: FutureWarning: Default multi_class will be changed to 'auto' in 0.22. Specify the multi_class option to silence this warning.\n",
      "  \"this warning.\", FutureWarning)\n",
      "/Users/dinamaizlis/opt/anaconda3/lib/python3.7/site-packages/sklearn/linear_model/logistic.py:432: FutureWarning: Default solver will be changed to 'lbfgs' in 0.22. Specify a solver to silence this warning.\n",
      "  FutureWarning)\n",
      "/Users/dinamaizlis/opt/anaconda3/lib/python3.7/site-packages/sklearn/linear_model/logistic.py:469: FutureWarning: Default multi_class will be changed to 'auto' in 0.22. Specify the multi_class option to silence this warning.\n",
      "  \"this warning.\", FutureWarning)\n",
      "/Users/dinamaizlis/opt/anaconda3/lib/python3.7/site-packages/sklearn/linear_model/logistic.py:432: FutureWarning: Default solver will be changed to 'lbfgs' in 0.22. Specify a solver to silence this warning.\n",
      "  FutureWarning)\n",
      "/Users/dinamaizlis/opt/anaconda3/lib/python3.7/site-packages/sklearn/linear_model/logistic.py:469: FutureWarning: Default multi_class will be changed to 'auto' in 0.22. Specify the multi_class option to silence this warning.\n",
      "  \"this warning.\", FutureWarning)\n",
      "/Users/dinamaizlis/opt/anaconda3/lib/python3.7/site-packages/sklearn/linear_model/logistic.py:432: FutureWarning: Default solver will be changed to 'lbfgs' in 0.22. Specify a solver to silence this warning.\n",
      "  FutureWarning)\n",
      "/Users/dinamaizlis/opt/anaconda3/lib/python3.7/site-packages/sklearn/linear_model/logistic.py:469: FutureWarning: Default multi_class will be changed to 'auto' in 0.22. Specify the multi_class option to silence this warning.\n",
      "  \"this warning.\", FutureWarning)\n"
     ]
    },
    {
     "data": {
      "text/plain": [
       "array([0.97085357, 0.96009715, 0.96471949, 0.93568537])"
      ]
     },
     "execution_count": 57,
     "metadata": {},
     "output_type": "execute_result"
    }
   ],
   "source": [
    "from sklearn.linear_model import LogisticRegression\n",
    "logreg = LogisticRegression()\n",
    "logreg.fit(x_train, y_train)\n",
    "cross_val_score(logreg, x_train, y_train, cv=4, scoring=\"accuracy\")\n",
    "\n",
    "#print(\"train score:\",logreg.score(x_train,y_train))"
   ]
  },
  {
   "cell_type": "code",
   "execution_count": 58,
   "metadata": {},
   "outputs": [
    {
     "name": "stdout",
     "output_type": "stream",
     "text": [
      "test score: 0.9274278809847455\n",
      "F1 Score: 0.9272192009392597\n"
     ]
    }
   ],
   "source": [
    "lg_pred=logreg.predict(x_test)\n",
    "print(\"test score:\",logreg.score(x_test,y_test))\n",
    "print(\"F1 Score:\",f1_score(y_test, lg_pred,average='weighted'))"
   ]
  },
  {
   "cell_type": "code",
   "execution_count": 59,
   "metadata": {},
   "outputs": [
    {
     "name": "stdout",
     "output_type": "stream",
     "text": [
      "              precision    recall  f1-score   support\n",
      "\n",
      "           1       1.00      1.00      1.00     11106\n",
      "           2       0.55      0.59      0.57      1062\n",
      "           3       0.56      0.51      0.53      1074\n",
      "\n",
      "    accuracy                           0.93     13242\n",
      "   macro avg       0.70      0.70      0.70     13242\n",
      "weighted avg       0.93      0.93      0.93     13242\n",
      "\n"
     ]
    }
   ],
   "source": [
    "print(classification_report(y_test, lg_pred))"
   ]
  },
  {
   "cell_type": "markdown",
   "metadata": {},
   "source": [
    "### Logistic Regression -pca"
   ]
  },
  {
   "cell_type": "code",
   "execution_count": 60,
   "metadata": {},
   "outputs": [],
   "source": [
    "pca = PCA()\n",
    "pca.fit(x_train)\n",
    "cumsum = np.cumsum(pca.explained_variance_ratio_)\n",
    "num = np.argmax(cumsum >= 0.95) + 1"
   ]
  },
  {
   "cell_type": "code",
   "execution_count": 61,
   "metadata": {},
   "outputs": [
    {
     "name": "stdout",
     "output_type": "stream",
     "text": [
      "PCA score: 0.8386950611690077\n"
     ]
    },
    {
     "name": "stderr",
     "output_type": "stream",
     "text": [
      "/Users/dinamaizlis/opt/anaconda3/lib/python3.7/site-packages/sklearn/linear_model/logistic.py:432: FutureWarning: Default solver will be changed to 'lbfgs' in 0.22. Specify a solver to silence this warning.\n",
      "  FutureWarning)\n",
      "/Users/dinamaizlis/opt/anaconda3/lib/python3.7/site-packages/sklearn/linear_model/logistic.py:469: FutureWarning: Default multi_class will be changed to 'auto' in 0.22. Specify the multi_class option to silence this warning.\n",
      "  \"this warning.\", FutureWarning)\n"
     ]
    }
   ],
   "source": [
    "pca = PCA(n_components=2)\n",
    "x_t_train = pca.fit_transform(x_train)\n",
    "x_t_test = pca.fit_transform(x_test)\n",
    "logreg.fit(x_t_train,y_train)\n",
    "print(\"PCA score:\",logreg.score(x_t_test,y_test))"
   ]
  },
  {
   "cell_type": "markdown",
   "metadata": {},
   "source": [
    "##  ADABOOST"
   ]
  },
  {
   "cell_type": "code",
   "execution_count": 62,
   "metadata": {},
   "outputs": [
    {
     "data": {
      "text/plain": [
       "array([0.86768448, 0.9555864 , 0.92365529, 0.91382302])"
      ]
     },
     "execution_count": 62,
     "metadata": {},
     "output_type": "execute_result"
    }
   ],
   "source": [
    "from sklearn.ensemble import AdaBoostClassifier\n",
    "Ad_clf = AdaBoostClassifier(n_estimators=100)\n",
    "Ad_clf=Ad_clf.fit(x_train,y_train)\n",
    "cross_val_score(Ad_clf, x_train, y_train, cv=4, scoring=\"accuracy\")"
   ]
  },
  {
   "cell_type": "code",
   "execution_count": 63,
   "metadata": {},
   "outputs": [
    {
     "name": "stdout",
     "output_type": "stream",
     "text": [
      "test score: 0.8739616372149223\n",
      "F1 Score: 0.8801075094822339\n"
     ]
    }
   ],
   "source": [
    "ad_pred=Ad_clf.predict(x_test)\n",
    "print(\"test score:\",Ad_clf.score(x_test,y_test))\n",
    "print(\"F1 Score:\",f1_score(y_test, ad_pred ,average='weighted'))"
   ]
  },
  {
   "cell_type": "code",
   "execution_count": 64,
   "metadata": {},
   "outputs": [
    {
     "name": "stdout",
     "output_type": "stream",
     "text": [
      "              precision    recall  f1-score   support\n",
      "\n",
      "           1       1.00      0.95      0.97     11106\n",
      "           2       0.37      0.77      0.50      1062\n",
      "           3       0.50      0.22      0.31      1074\n",
      "\n",
      "    accuracy                           0.87     13242\n",
      "   macro avg       0.62      0.65      0.59     13242\n",
      "weighted avg       0.91      0.87      0.88     13242\n",
      "\n"
     ]
    }
   ],
   "source": [
    "print(classification_report(y_test, ad_pred))"
   ]
  },
  {
   "cell_type": "markdown",
   "metadata": {},
   "source": [
    "### ADABOOST - pca"
   ]
  },
  {
   "cell_type": "code",
   "execution_count": 65,
   "metadata": {},
   "outputs": [
    {
     "name": "stdout",
     "output_type": "stream",
     "text": [
      "PCA score: 0.8386950611690077\n"
     ]
    }
   ],
   "source": [
    "pca = PCA(n_components=2)\n",
    "x_t_train = pca.fit_transform(x_train)\n",
    "x_t_test = pca.fit_transform(x_test)\n",
    "Ad_clf.fit(x_t_train,y_train)\n",
    "\n",
    "print(\"PCA score:\",Ad_clf.score(x_t_test,y_test))"
   ]
  },
  {
   "cell_type": "code",
   "execution_count": null,
   "metadata": {},
   "outputs": [],
   "source": []
  }
 ],
 "metadata": {
  "kernelspec": {
   "display_name": "Python 3",
   "language": "python",
   "name": "python3"
  },
  "language_info": {
   "codemirror_mode": {
    "name": "ipython",
    "version": 3
   },
   "file_extension": ".py",
   "mimetype": "text/x-python",
   "name": "python",
   "nbconvert_exporter": "python",
   "pygments_lexer": "ipython3",
   "version": "3.7.4"
  }
 },
 "nbformat": 4,
 "nbformat_minor": 2
}
